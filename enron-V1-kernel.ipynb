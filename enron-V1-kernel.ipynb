{
  "cells": [
    {
      "metadata": {
        "_uuid": "8f2839f25d086af736a60e9eeb907d3b93b6e0e5",
        "_cell_guid": "b1076dfc-b9ad-4769-8c92-a6c4dae69d19",
        "trusted": true
      },
      "cell_type": "code",
      "source": "# This Python 3 environment comes with many helpful analytics libraries installed\n# It is defined by the kaggle/python docker image: https://github.com/kaggle/docker-python\n# For example, here's several helpful packages to load in \n\nimport numpy as np # linear algebra\nimport pandas as pd # data processing, CSV file I/O (e.g. pd.read_csv)\n\n# Input data files are available in the \"../input/\" directory.\n# For example, running this (by clicking run or pressing Shift+Enter) will list the files in the input directory\n\nimport os\nprint(os.listdir(\"../input\"))\n\n# Any results you write to the current directory are saved as output.\n\n\nfrom subprocess import check_output\n\nfrom sklearn.feature_extraction.text import TfidfVectorizer,CountVectorizer\nfrom sklearn.cluster import KMeans\nfrom sklearn.decomposition import PCA\n# from sklearn.LDA import LDA\nfrom sklearn.decomposition import LatentDirichletAllocation\n\nimport gensim\nfrom gensim import corpora\nfrom nltk.corpus import stopwords \nfrom nltk.stem.wordnet import WordNetLemmatizer\nimport string\nfrom nltk.stem.porter import PorterStemmer\nfrom bs4 import BeautifulSoup",
      "execution_count": 107,
      "outputs": [
        {
          "output_type": "stream",
          "text": "['emails.csv']\n",
          "name": "stdout"
        }
      ]
    },
    {
      "metadata": {
        "_cell_guid": "79c7e3d0-c299-4dcb-8224-4455121ee9b0",
        "_uuid": "d629ff2d2480ee46fbb7e2d37f6b5fab8052498a",
        "trusted": true
      },
      "cell_type": "code",
      "source": "import pandas as pd\nimport numpy as np\nimport wordcloud\nimport networkx as nx\nimport matplotlib.pyplot as plt\nimport os, email, sys, re",
      "execution_count": 74,
      "outputs": []
    },
    {
      "metadata": {
        "trusted": true,
        "_uuid": "d2274583394909084c9a7bc78e4c1d8d28321796"
      },
      "cell_type": "code",
      "source": "df_email = pd.read_csv('../input/emails.csv')\n# df_email.head()",
      "execution_count": 75,
      "outputs": []
    },
    {
      "metadata": {
        "trusted": true,
        "_uuid": "4b98b96b4abe22808efd7bb7d753abe78945277d"
      },
      "cell_type": "code",
      "source": "# df_email['message'].head()",
      "execution_count": 76,
      "outputs": []
    },
    {
      "metadata": {
        "trusted": true,
        "_uuid": "584422b2d88d863f2354cefe0556ab426dece8bb"
      },
      "cell_type": "code",
      "source": "def content_from_email(msg):\n    parts = [];\n    for part in msg.walk():\n        if part.get_content_type() == 'text/plain':\n            parts.append( part.get_payload() )\n    return ''.join(parts)\n\n\ndef split_email_addresses(line):\n    '''To separate multiple email addresses'''\n    if line:\n        addrs = line.split(',')\n        addrs = frozenset(map(lambda x: x.strip(), addrs))\n    else:\n        addrs = None\n    return addrs",
      "execution_count": 77,
      "outputs": []
    },
    {
      "metadata": {
        "trusted": true,
        "_uuid": "a566c186d6c713ec49494b70ae87fc84242184bc"
      },
      "cell_type": "code",
      "source": "# Parse the emails into a list email objects\nmessages = list(map(email.message_from_string, df_email['message']))\ndf_email.drop('message', axis=1, inplace=True)",
      "execution_count": 78,
      "outputs": []
    },
    {
      "metadata": {
        "trusted": true,
        "_uuid": "c670256b8ce03bbfe05b4de58c6c25939de1ceeb"
      },
      "cell_type": "code",
      "source": "# df_email.head()",
      "execution_count": 79,
      "outputs": []
    },
    {
      "metadata": {
        "trusted": true,
        "_uuid": "ce135cf61d496cedf9a21d2342d6db53c355d9f5"
      },
      "cell_type": "code",
      "source": "#  Get fields from parsed email objects\nkeys = messages[0].keys()\nfor key in keys:\n    df_email[key] = [doc[key] for doc in messages]",
      "execution_count": 80,
      "outputs": []
    },
    {
      "metadata": {
        "trusted": true,
        "_uuid": "04d4e71257beaa6204441d71d37801c12e980aba"
      },
      "cell_type": "code",
      "source": "# df_email.head()",
      "execution_count": 81,
      "outputs": []
    },
    {
      "metadata": {
        "trusted": true,
        "_uuid": "f9fdb9a507974714296d969a2216cfa71dd7c81f"
      },
      "cell_type": "code",
      "source": "# Parse content from emails\ndf_email['content'] = list(map(content_from_email, messages))\n# df_email.head()",
      "execution_count": 82,
      "outputs": []
    },
    {
      "metadata": {
        "trusted": true,
        "_uuid": "0d96b17c4238652cf4aa9e802c007a3b485f2573"
      },
      "cell_type": "code",
      "source": "",
      "execution_count": null,
      "outputs": []
    },
    {
      "metadata": {
        "trusted": true,
        "_uuid": "f74a4f8021620b1e2916aa2864bf25d0ef266079"
      },
      "cell_type": "code",
      "source": "# Split multiple email addresses\ndf_email['From'] = df_email['From'].map(split_email_addresses)\ndf_email['To'] = df_email['To'].map(split_email_addresses)\n\n# Extract the root of 'file' as 'user'\ndf_email['user'] = df_email['file'].map(lambda x:x.split('/')[0])\ndel messages\n\n# df_email.head()",
      "execution_count": 83,
      "outputs": []
    },
    {
      "metadata": {
        "trusted": true,
        "_uuid": "b5ed024acf5206d62590501ce8969f56705e9446"
      },
      "cell_type": "code",
      "source": "df_email.head()",
      "execution_count": 84,
      "outputs": [
        {
          "output_type": "execute_result",
          "execution_count": 84,
          "data": {
            "text/plain": "                       file   ...        user\n0     allen-p/_sent_mail/1.   ...     allen-p\n1    allen-p/_sent_mail/10.   ...     allen-p\n2   allen-p/_sent_mail/100.   ...     allen-p\n3  allen-p/_sent_mail/1000.   ...     allen-p\n4  allen-p/_sent_mail/1001.   ...     allen-p\n\n[5 rows x 18 columns]",
            "text/html": "<div>\n<style scoped>\n    .dataframe tbody tr th:only-of-type {\n        vertical-align: middle;\n    }\n\n    .dataframe tbody tr th {\n        vertical-align: top;\n    }\n\n    .dataframe thead th {\n        text-align: right;\n    }\n</style>\n<table border=\"1\" class=\"dataframe\">\n  <thead>\n    <tr style=\"text-align: right;\">\n      <th></th>\n      <th>file</th>\n      <th>Message-ID</th>\n      <th>Date</th>\n      <th>From</th>\n      <th>To</th>\n      <th>Subject</th>\n      <th>Mime-Version</th>\n      <th>Content-Type</th>\n      <th>Content-Transfer-Encoding</th>\n      <th>X-From</th>\n      <th>X-To</th>\n      <th>X-cc</th>\n      <th>X-bcc</th>\n      <th>X-Folder</th>\n      <th>X-Origin</th>\n      <th>X-FileName</th>\n      <th>content</th>\n      <th>user</th>\n    </tr>\n  </thead>\n  <tbody>\n    <tr>\n      <th>0</th>\n      <td>allen-p/_sent_mail/1.</td>\n      <td>&lt;18782981.1075855378110.JavaMail.evans@thyme&gt;</td>\n      <td>Mon, 14 May 2001 16:39:00 -0700 (PDT)</td>\n      <td>(phillip.allen@enron.com)</td>\n      <td>(tim.belden@enron.com)</td>\n      <td></td>\n      <td>1.0</td>\n      <td>text/plain; charset=us-ascii</td>\n      <td>7bit</td>\n      <td>Phillip K Allen</td>\n      <td>Tim Belden &lt;Tim Belden/Enron@EnronXGate&gt;</td>\n      <td></td>\n      <td></td>\n      <td>\\Phillip_Allen_Jan2002_1\\Allen, Phillip K.\\'Se...</td>\n      <td>Allen-P</td>\n      <td>pallen (Non-Privileged).pst</td>\n      <td>Here is our forecast\\n\\n</td>\n      <td>allen-p</td>\n    </tr>\n    <tr>\n      <th>1</th>\n      <td>allen-p/_sent_mail/10.</td>\n      <td>&lt;15464986.1075855378456.JavaMail.evans@thyme&gt;</td>\n      <td>Fri, 4 May 2001 13:51:00 -0700 (PDT)</td>\n      <td>(phillip.allen@enron.com)</td>\n      <td>(john.lavorato@enron.com)</td>\n      <td>Re:</td>\n      <td>1.0</td>\n      <td>text/plain; charset=us-ascii</td>\n      <td>7bit</td>\n      <td>Phillip K Allen</td>\n      <td>John J Lavorato &lt;John J Lavorato/ENRON@enronXg...</td>\n      <td></td>\n      <td></td>\n      <td>\\Phillip_Allen_Jan2002_1\\Allen, Phillip K.\\'Se...</td>\n      <td>Allen-P</td>\n      <td>pallen (Non-Privileged).pst</td>\n      <td>Traveling to have a business meeting takes the...</td>\n      <td>allen-p</td>\n    </tr>\n    <tr>\n      <th>2</th>\n      <td>allen-p/_sent_mail/100.</td>\n      <td>&lt;24216240.1075855687451.JavaMail.evans@thyme&gt;</td>\n      <td>Wed, 18 Oct 2000 03:00:00 -0700 (PDT)</td>\n      <td>(phillip.allen@enron.com)</td>\n      <td>(leah.arsdall@enron.com)</td>\n      <td>Re: test</td>\n      <td>1.0</td>\n      <td>text/plain; charset=us-ascii</td>\n      <td>7bit</td>\n      <td>Phillip K Allen</td>\n      <td>Leah Van Arsdall</td>\n      <td></td>\n      <td></td>\n      <td>\\Phillip_Allen_Dec2000\\Notes Folders\\'sent mail</td>\n      <td>Allen-P</td>\n      <td>pallen.nsf</td>\n      <td>test successful.  way to go!!!</td>\n      <td>allen-p</td>\n    </tr>\n    <tr>\n      <th>3</th>\n      <td>allen-p/_sent_mail/1000.</td>\n      <td>&lt;13505866.1075863688222.JavaMail.evans@thyme&gt;</td>\n      <td>Mon, 23 Oct 2000 06:13:00 -0700 (PDT)</td>\n      <td>(phillip.allen@enron.com)</td>\n      <td>(randall.gay@enron.com)</td>\n      <td></td>\n      <td>1.0</td>\n      <td>text/plain; charset=us-ascii</td>\n      <td>7bit</td>\n      <td>Phillip K Allen</td>\n      <td>Randall L Gay</td>\n      <td></td>\n      <td></td>\n      <td>\\Phillip_Allen_Dec2000\\Notes Folders\\'sent mail</td>\n      <td>Allen-P</td>\n      <td>pallen.nsf</td>\n      <td>Randy,\\n\\n Can you send me a schedule of the s...</td>\n      <td>allen-p</td>\n    </tr>\n    <tr>\n      <th>4</th>\n      <td>allen-p/_sent_mail/1001.</td>\n      <td>&lt;30922949.1075863688243.JavaMail.evans@thyme&gt;</td>\n      <td>Thu, 31 Aug 2000 05:07:00 -0700 (PDT)</td>\n      <td>(phillip.allen@enron.com)</td>\n      <td>(greg.piper@enron.com)</td>\n      <td>Re: Hello</td>\n      <td>1.0</td>\n      <td>text/plain; charset=us-ascii</td>\n      <td>7bit</td>\n      <td>Phillip K Allen</td>\n      <td>Greg Piper</td>\n      <td></td>\n      <td></td>\n      <td>\\Phillip_Allen_Dec2000\\Notes Folders\\'sent mail</td>\n      <td>Allen-P</td>\n      <td>pallen.nsf</td>\n      <td>Let's shoot for Tuesday at 11:45.</td>\n      <td>allen-p</td>\n    </tr>\n  </tbody>\n</table>\n</div>"
          },
          "metadata": {}
        }
      ]
    },
    {
      "metadata": {
        "trusted": true,
        "_uuid": "0e33fd6baf861a0956c53cd26006f1c22ff0abb3"
      },
      "cell_type": "code",
      "source": "# a = df_email.drop(['file', 'Mime-Version', 'Content-Type', 'Content-Transfer-Encoding'], inplace=True, axis=1)",
      "execution_count": 85,
      "outputs": []
    },
    {
      "metadata": {
        "trusted": true,
        "_uuid": "5129ce30227dc54bd3d6414ed3bb0d54c4417e6c"
      },
      "cell_type": "code",
      "source": "# df_email.head()",
      "execution_count": 86,
      "outputs": []
    },
    {
      "metadata": {
        "trusted": true,
        "_uuid": "c041032249d079a45892087748e2124d98e776be"
      },
      "cell_type": "code",
      "source": "new_email_copy = df_email_email.copy()",
      "execution_count": null,
      "outputs": []
    },
    {
      "metadata": {
        "trusted": true,
        "_uuid": "cf8d4ff1b852b18f681eaa9257ff965dbcf7453d"
      },
      "cell_type": "code",
      "source": "# Setting up the index of the dataset\ndf_email.set_index('Message-ID', inplace = True)",
      "execution_count": 95,
      "outputs": []
    },
    {
      "metadata": {
        "trusted": true,
        "_uuid": "d4376df1ddfe525a0a72e298461ff6d7d1690b41"
      },
      "cell_type": "code",
      "source": "",
      "execution_count": null,
      "outputs": []
    },
    {
      "metadata": {
        "trusted": true,
        "_uuid": "7db841fcb424329b1b7ee53bfbd06fce2d56374c"
      },
      "cell_type": "code",
      "source": "",
      "execution_count": 89,
      "outputs": []
    },
    {
      "metadata": {
        "trusted": true,
        "_uuid": "521beeb1bfbd56048a5f49461286dd301dca0fde"
      },
      "cell_type": "code",
      "source": "# def clean(text):\n#     stop = set(stopwords.words('english'))\n#     stop.update((\"to\",\"cc\",\"subject\",\"http\",\"from\",\"sent\",\"aaaaaaaaaaaaaaaaaaaaaaaaaaaaaaaaaaaaaaaaaaaaaaaaaaaaaaaaaaaaaaaaaaaaaaaaaaaa\"))\n#     exclude = set(string.punctuation) \n#     lemma = WordNetLemmatizer()\n#     porter= PorterStemmer()\n    \n#     text=text.rstrip()\n#     text = re.sub(r'[^a-zA-Z]', ' ', text)\n#     stop_free = \" \".join([i for i in text.lower().split() if((i not in stop) and (not i.isdigit()))])\n#     punc_free = ''.join(ch for ch in stop_free if ch not in exclude)\n#     normalized = \" \".join(lemma.lemmatize(word) for word in punc_free.split())\n#     #stem = \" \".join(porter.stem(token) for token in normalized.split())\n    \n#     return normalized\n\ndef remove_stopwords(review_text):\n#     lemma = WordNetLemmatizer()\n#     porter= PorterStemmer()\n    clean_text = BeautifulSoup(review_text) # Initialising Beautifulsoup\n    get_clean_text = clean_text.get_text()  # Extract the text while removing the Mark-ups\n    get_letters = re.sub(\"[^a-zA-Z]\", \" \", get_clean_text)  # Removing all numbers from the text\n    stop = set(stopwords.words('english'))\n    stop.update((\"to\",\"cc\",\"subject\",\"http\",\"from\",\"sent\",\"aaaaaaaaaaaaaaaaaaaaaaaaaaaaaaaaaaaaaaaaaaaaaaaaaaaaaaaaaaaaaaaaaaaaaaaaaaaa\"))\n    clean_text = get_letters.lower()  # Convert all words to lower case\n    clean_text = clean_text.split()   # Spliting all words to an individual words\n    clean_text = [w for w in clean_text if not w in stopwords.words(\"english\")]   # Removing stop words with the help of NLTK lib\n    exclude = set(string.punctuation) \n    clean_text = [w for w in clean_text if not w in exclude]\n    combines_clean_text = ' '.join(clean_text)   # Combining the words after removing stop-words\n    return combines_clean_text",
      "execution_count": 96,
      "outputs": []
    },
    {
      "metadata": {
        "trusted": true,
        "_uuid": "f943dccd7afb72258b36918f5f9e50f7d3e3857b"
      },
      "cell_type": "code",
      "source": "new_df = new_email_copy[['Message-ID','content']]",
      "execution_count": 99,
      "outputs": []
    },
    {
      "metadata": {
        "trusted": true,
        "_uuid": "f26a448fc96a7bc605683aec754752150a6368fe"
      },
      "cell_type": "code",
      "source": "list(new_df.columns.values)",
      "execution_count": 100,
      "outputs": [
        {
          "output_type": "execute_result",
          "execution_count": 100,
          "data": {
            "text/plain": "['Message-ID', 'content']"
          },
          "metadata": {}
        }
      ]
    },
    {
      "metadata": {
        "trusted": true,
        "_uuid": "a831e21c3dd72ac5bd15ffe4533746a29987ab6f"
      },
      "cell_type": "code",
      "source": "new_df['content'].head()",
      "execution_count": 103,
      "outputs": [
        {
          "output_type": "execute_result",
          "execution_count": 103,
          "data": {
            "text/plain": "0                            Here is our forecast\\n\\n \n1    Traveling to have a business meeting takes the...\n2                       test successful.  way to go!!!\n3    Randy,\\n\\n Can you send me a schedule of the s...\n4                  Let's shoot for Tuesday at 11:45.  \nName: content, dtype: object"
          },
          "metadata": {}
        }
      ]
    },
    {
      "metadata": {
        "trusted": true,
        "_uuid": "3266af3d02cb652689d0c8ce8033daf95a343d83"
      },
      "cell_type": "code",
      "source": "total_review = new_df.shape[0]\ntotal_review",
      "execution_count": 105,
      "outputs": [
        {
          "output_type": "execute_result",
          "execution_count": 105,
          "data": {
            "text/plain": "517401"
          },
          "metadata": {}
        }
      ]
    },
    {
      "metadata": {
        "trusted": true,
        "_uuid": "92d4b49c54d7717dce77a4a60a90556504598319"
      },
      "cell_type": "code",
      "source": "all_clean_reviews = []\nfor i in range(0, total_review):\n    clean_reviews = remove_stopwords(new_df['content'][i])\n    print(\"Review Completed: %d out of %d\" % (i+1, total_review))\n    all_clean_reviews.append(clean_reviews)",
      "execution_count": null,
      "outputs": []
    },
    {
      "metadata": {
        "trusted": true,
        "_uuid": "6e94db0d7e8fa21d371a763ce1f288314916294c"
      },
      "cell_type": "code",
      "source": "",
      "execution_count": null,
      "outputs": []
    }
  ],
  "metadata": {
    "kernelspec": {
      "display_name": "Python 3",
      "language": "python",
      "name": "python3"
    },
    "language_info": {
      "name": "python",
      "version": "3.6.6",
      "mimetype": "text/x-python",
      "codemirror_mode": {
        "name": "ipython",
        "version": 3
      },
      "pygments_lexer": "ipython3",
      "nbconvert_exporter": "python",
      "file_extension": ".py"
    }
  },
  "nbformat": 4,
  "nbformat_minor": 1
}